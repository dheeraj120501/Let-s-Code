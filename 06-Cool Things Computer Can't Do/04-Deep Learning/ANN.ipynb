{
 "cells": [
  {
   "attachments": {},
   "cell_type": "markdown",
   "metadata": {},
   "source": [
    "# ANN\n",
    "\n",
    "Artificial Neural Networks or ANN is an information processing paradigm that is inspired by the way the biological nervous system such as brain process information. \n",
    "\n",
    "An artificial neural network is a supervised learning algorithm.\n",
    "\n",
    "It is composed of large number of highly interconnected processing elements(neurons) working in unison to solve a specific problem.\n",
    "\n",
    "In the beginning, the ANN makes some random predictions, these predictions are compared with the correct output and the error(the difference between the predicted values and the actual values) is calculated. \n",
    "\n",
    "The function that finds the difference between the actual value and the propagated values is called the cost function. The cost here refers to the error. Our objective is to minimize the cost function. \n",
    "\n",
    "Training a neural network basically refers to minimizing the cost function. We will see how we can perform this task.\n",
    "\n",
    "A neural network executes in two phases: Feed Forward phase and Back Propagation phase.\n",
    "\n",
    "- In the feed-forward phase of ANN, predictions are made based on the values in the input nodes and the weights. In this, we have to find the dot product of the input features(matrix of independent variables) with the weights add it to bias, pass it through an activation function. The result of the activation function is basically the predicted output for the input features.\n",
    "\n",
    "- In the beginning, before you do any training, the neural network makes random predictions which are of course incorrect. We start by letting the network make random output predictions. We then compare the predicted output of the neural network with the actual output. Next, we update the weights and the bias in such a manner that our predicted output comes closer to the actual output. This is Backpropogation. In this phase, we train our algorithm.\n",
    "\n",
    "A perceptron model is also classified as one of the best and most specific types of Artificial Neural networks.\n",
    "\n",
    "Steps involved in training ANN:\n",
    "\n",
    "1. Randomly initialize the weights to small numbers close to 0 but not 0.\n",
    "\n",
    "2. Forward-Propagation: From left to right, the neurons are activated in a way that the impact of each neuron's activation is limited by the weights. Propagate the activations until getting the predicted value.\n",
    "\n",
    "3. Compare the predicted result to the actual result and measure the generated error(Cost function).\n",
    "\n",
    "4. Back-Propagation: from right to left, the error is backpropagated. Update the weights according to how much they are responsible for the error. The learning rate decides how much we update weights.\n",
    "\n",
    "5. Repeat step-1 to 5 and update the weights after each observation(Reinforcement Learning)\n",
    "\n",
    "6. When the whole training set passed through the ANN, that makes and epoch. Redo more epochs."
   ]
  },
  {
   "cell_type": "code",
   "execution_count": null,
   "metadata": {},
   "outputs": [],
   "source": []
  }
 ],
 "metadata": {
  "kernelspec": {
   "display_name": "Python 3",
   "language": "python",
   "name": "python3"
  },
  "language_info": {
   "name": "python",
   "version": "3.9.0"
  },
  "orig_nbformat": 4
 },
 "nbformat": 4,
 "nbformat_minor": 2
}
