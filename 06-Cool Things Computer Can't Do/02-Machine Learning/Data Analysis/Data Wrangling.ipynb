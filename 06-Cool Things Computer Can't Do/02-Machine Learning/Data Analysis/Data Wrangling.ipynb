{
 "cells": [
  {
   "cell_type": "markdown",
   "metadata": {},
   "source": [
    "## Data Analysis Process\n",
    "\n",
    "- The data analysis process is done in the following steps\n",
    "    1. Asking Right Question About Data\n",
    "    1. Data Wrangling/Preprocessing/Munging\n",
    "        - Gathering Data\n",
    "            - CSV files\n",
    "            - API\n",
    "            - Database\n",
    "            - Web Scrapping etc.\n",
    "        - Assessing Data\n",
    "        - Cleaning Data \n",
    "    1. Exploratory Data Analysis(EDA) \n",
    "    1. Drawing Conclusion\n",
    "    1. Communicating Results/Data Storytelling"
   ]
  },
  {
   "cell_type": "code",
   "execution_count": 2,
   "metadata": {},
   "outputs": [],
   "source": [
    "import pandas as pd"
   ]
  },
  {
   "cell_type": "markdown",
   "metadata": {},
   "source": [
    "## Gathering Data and Importing it"
   ]
  },
  {
   "cell_type": "code",
   "execution_count": 3,
   "metadata": {},
   "outputs": [
    {
     "data": {
      "text/html": [
       "<div>\n",
       "<style scoped>\n",
       "    .dataframe tbody tr th:only-of-type {\n",
       "        vertical-align: middle;\n",
       "    }\n",
       "\n",
       "    .dataframe tbody tr th {\n",
       "        vertical-align: top;\n",
       "    }\n",
       "\n",
       "    .dataframe thead th {\n",
       "        text-align: right;\n",
       "    }\n",
       "</style>\n",
       "<table border=\"1\" class=\"dataframe\">\n",
       "  <thead>\n",
       "    <tr style=\"text-align: right;\">\n",
       "      <th></th>\n",
       "      <th>patient_id</th>\n",
       "      <th>assigned_sex</th>\n",
       "      <th>given_name</th>\n",
       "      <th>surname</th>\n",
       "      <th>address</th>\n",
       "      <th>city</th>\n",
       "      <th>state</th>\n",
       "      <th>zip_code</th>\n",
       "      <th>country</th>\n",
       "      <th>contact</th>\n",
       "      <th>birthdate</th>\n",
       "      <th>weight</th>\n",
       "      <th>height</th>\n",
       "      <th>bmi</th>\n",
       "    </tr>\n",
       "  </thead>\n",
       "  <tbody>\n",
       "    <tr>\n",
       "      <th>0</th>\n",
       "      <td>1</td>\n",
       "      <td>female</td>\n",
       "      <td>Zoe</td>\n",
       "      <td>Wellish</td>\n",
       "      <td>576 Brown Bear Drive</td>\n",
       "      <td>Rancho California</td>\n",
       "      <td>California</td>\n",
       "      <td>92390.0</td>\n",
       "      <td>United States</td>\n",
       "      <td>951-719-9170ZoeWellish@superrito.com</td>\n",
       "      <td>7/10/1976</td>\n",
       "      <td>121.7</td>\n",
       "      <td>66</td>\n",
       "      <td>19.6</td>\n",
       "    </tr>\n",
       "  </tbody>\n",
       "</table>\n",
       "</div>"
      ],
      "text/plain": [
       "   patient_id assigned_sex given_name  surname               address  \\\n",
       "0           1       female        Zoe  Wellish  576 Brown Bear Drive   \n",
       "\n",
       "                city       state  zip_code        country  \\\n",
       "0  Rancho California  California   92390.0  United States   \n",
       "\n",
       "                                contact  birthdate  weight  height   bmi  \n",
       "0  951-719-9170ZoeWellish@superrito.com  7/10/1976   121.7      66  19.6  "
      ]
     },
     "execution_count": 3,
     "metadata": {},
     "output_type": "execute_result"
    }
   ],
   "source": [
    "patient_df = pd.read_csv(\"./dataset/patients.csv\")\n",
    "patient_df.head(1)"
   ]
  },
  {
   "cell_type": "code",
   "execution_count": 4,
   "metadata": {},
   "outputs": [
    {
     "data": {
      "text/html": [
       "<div>\n",
       "<style scoped>\n",
       "    .dataframe tbody tr th:only-of-type {\n",
       "        vertical-align: middle;\n",
       "    }\n",
       "\n",
       "    .dataframe tbody tr th {\n",
       "        vertical-align: top;\n",
       "    }\n",
       "\n",
       "    .dataframe thead th {\n",
       "        text-align: right;\n",
       "    }\n",
       "</style>\n",
       "<table border=\"1\" class=\"dataframe\">\n",
       "  <thead>\n",
       "    <tr style=\"text-align: right;\">\n",
       "      <th></th>\n",
       "      <th>given_name</th>\n",
       "      <th>surname</th>\n",
       "      <th>auralin</th>\n",
       "      <th>novodra</th>\n",
       "      <th>hba1c_start</th>\n",
       "      <th>hba1c_end</th>\n",
       "      <th>hba1c_change</th>\n",
       "    </tr>\n",
       "  </thead>\n",
       "  <tbody>\n",
       "    <tr>\n",
       "      <th>0</th>\n",
       "      <td>veronika</td>\n",
       "      <td>jindrová</td>\n",
       "      <td>41u - 48u</td>\n",
       "      <td>-</td>\n",
       "      <td>7.63</td>\n",
       "      <td>7.2</td>\n",
       "      <td>NaN</td>\n",
       "    </tr>\n",
       "  </tbody>\n",
       "</table>\n",
       "</div>"
      ],
      "text/plain": [
       "  given_name   surname    auralin novodra  hba1c_start  hba1c_end  \\\n",
       "0   veronika  jindrová  41u - 48u       -         7.63        7.2   \n",
       "\n",
       "   hba1c_change  \n",
       "0           NaN  "
      ]
     },
     "execution_count": 4,
     "metadata": {},
     "output_type": "execute_result"
    }
   ],
   "source": [
    "treatment_df = pd.read_csv(\"./dataset/treatments.csv\")\n",
    "treatment_df.head(1)"
   ]
  },
  {
   "cell_type": "code",
   "execution_count": 5,
   "metadata": {},
   "outputs": [
    {
     "data": {
      "text/html": [
       "<div>\n",
       "<style scoped>\n",
       "    .dataframe tbody tr th:only-of-type {\n",
       "        vertical-align: middle;\n",
       "    }\n",
       "\n",
       "    .dataframe tbody tr th {\n",
       "        vertical-align: top;\n",
       "    }\n",
       "\n",
       "    .dataframe thead th {\n",
       "        text-align: right;\n",
       "    }\n",
       "</style>\n",
       "<table border=\"1\" class=\"dataframe\">\n",
       "  <thead>\n",
       "    <tr style=\"text-align: right;\">\n",
       "      <th></th>\n",
       "      <th>given_name</th>\n",
       "      <th>surname</th>\n",
       "      <th>adverse_reaction</th>\n",
       "    </tr>\n",
       "  </thead>\n",
       "  <tbody>\n",
       "    <tr>\n",
       "      <th>0</th>\n",
       "      <td>berta</td>\n",
       "      <td>napolitani</td>\n",
       "      <td>injection site discomfort</td>\n",
       "    </tr>\n",
       "  </tbody>\n",
       "</table>\n",
       "</div>"
      ],
      "text/plain": [
       "  given_name     surname           adverse_reaction\n",
       "0      berta  napolitani  injection site discomfort"
      ]
     },
     "execution_count": 5,
     "metadata": {},
     "output_type": "execute_result"
    }
   ],
   "source": [
    "adv_reaction_df = pd.read_csv(\"./dataset/adverse_reactions.csv\")\n",
    "adv_reaction_df.head(1)"
   ]
  },
  {
   "cell_type": "code",
   "execution_count": 6,
   "metadata": {},
   "outputs": [
    {
     "data": {
      "text/plain": [
       "((503, 14), (280, 7), (34, 3))"
      ]
     },
     "execution_count": 6,
     "metadata": {},
     "output_type": "execute_result"
    }
   ],
   "source": [
    "patient_df.shape, treatment_df.shape, adv_reaction_df.shape"
   ]
  },
  {
   "attachments": {},
   "cell_type": "markdown",
   "metadata": {},
   "source": [
    "## Assessing Data\n",
    "\n",
    "It is about analysing and assesment of data so we can clean it in the next step. \n",
    "\n",
    "### Types of Unclean data\n",
    "There are 2 kinds of unclean data\n",
    "- Dirty Data (Data with Quality/Content Issue) \n",
    "- Messy Data (Data with tidiness/structural Issue)\n",
    "\n",
    "1. **Dirty Data**\n",
    "- It has following kind of issues\n",
    "    - Duplicate Data\n",
    "    - Missing Data\n",
    "    - Corrupt Data\n",
    "    - Inaccurate Data \n",
    "\n",
    "1. **Messy Data**\n",
    "- Tidy data has following traits\n",
    "    - Each Variable forms a column\n",
    "    - Each observation forms a row\n",
    "    - Each Observational unit forms a table\n",
    "\n",
    "- If any of the above trait is voilated then it is untidy/messy data.\n",
    "\n",
    "### Type of Assessment\n",
    "\n",
    "There are 2 types of assessment styles\n",
    "\n",
    "- Manual: Looking through data manually in google sheets\n",
    "- Programmatic: By using pandas function like info(), describe(), sample(), etc.\n",
    "\n",
    "Steps in Assessment include 2 steps:\n",
    "- Discover\n",
    "- Document\n",
    "\n",
    "We first discover the issues and then document it and later in the data cleaning step all these issues are resolved.\n",
    "\n",
    "### Data Quality Dimensions\n",
    "\n",
    "There are 4 major type of quality issues\n",
    "1. **Completeness Issues**: Data is missing\n",
    "    - To handle missing data we can do imputaion or dropping.\n",
    "2. **Validity Issues**: Data is available but not valid\n",
    "3. **Accuracy Issues**: Data is available and valid but not accuratae\n",
    "4. **Consistency Issues**: Data is inconsistent\n"
   ]
  },
  {
   "cell_type": "code",
   "execution_count": 11,
   "metadata": {},
   "outputs": [
    {
     "name": "stdout",
     "output_type": "stream",
     "text": [
      "<class 'pandas.core.frame.DataFrame'>\n",
      "RangeIndex: 503 entries, 0 to 502\n",
      "Data columns (total 14 columns):\n",
      " #   Column        Non-Null Count  Dtype  \n",
      "---  ------        --------------  -----  \n",
      " 0   patient_id    503 non-null    int64  \n",
      " 1   assigned_sex  503 non-null    object \n",
      " 2   given_name    503 non-null    object \n",
      " 3   surname       503 non-null    object \n",
      " 4   address       491 non-null    object \n",
      " 5   city          491 non-null    object \n",
      " 6   state         491 non-null    object \n",
      " 7   zip_code      491 non-null    float64\n",
      " 8   country       491 non-null    object \n",
      " 9   contact       491 non-null    object \n",
      " 10  birthdate     503 non-null    object \n",
      " 11  weight        503 non-null    float64\n",
      " 12  height        503 non-null    int64  \n",
      " 13  bmi           503 non-null    float64\n",
      "dtypes: float64(3), int64(2), object(9)\n",
      "memory usage: 55.1+ KB\n"
     ]
    },
    {
     "data": {
      "text/plain": [
       "(None,\n",
       "        patient_id      zip_code      weight      height         bmi\n",
       " count  503.000000    491.000000  503.000000  503.000000  503.000000\n",
       " mean   252.000000  49084.118126  173.434990   66.634195   27.483897\n",
       " std    145.347859  30265.807442   33.916741    4.411297    5.276438\n",
       " min      1.000000   1002.000000   48.800000   27.000000   17.100000\n",
       " 25%    126.500000  21920.500000  149.300000   63.000000   23.300000\n",
       " 50%    252.000000  48057.000000  175.300000   67.000000   27.200000\n",
       " 75%    377.500000  75679.000000  199.500000   70.000000   31.750000\n",
       " max    503.000000  99701.000000  255.900000   79.000000   37.700000)"
      ]
     },
     "execution_count": 11,
     "metadata": {},
     "output_type": "execute_result"
    }
   ],
   "source": [
    "patient_df.info(), patient_df.describe()"
   ]
  },
  {
   "cell_type": "code",
   "execution_count": 12,
   "metadata": {},
   "outputs": [
    {
     "name": "stdout",
     "output_type": "stream",
     "text": [
      "<class 'pandas.core.frame.DataFrame'>\n",
      "RangeIndex: 280 entries, 0 to 279\n",
      "Data columns (total 7 columns):\n",
      " #   Column        Non-Null Count  Dtype  \n",
      "---  ------        --------------  -----  \n",
      " 0   given_name    280 non-null    object \n",
      " 1   surname       280 non-null    object \n",
      " 2   auralin       280 non-null    object \n",
      " 3   novodra       280 non-null    object \n",
      " 4   hba1c_start   280 non-null    float64\n",
      " 5   hba1c_end     280 non-null    float64\n",
      " 6   hba1c_change  171 non-null    float64\n",
      "dtypes: float64(3), object(4)\n",
      "memory usage: 15.4+ KB\n"
     ]
    },
    {
     "data": {
      "text/plain": [
       "(None,\n",
       "        hba1c_start   hba1c_end  hba1c_change\n",
       " count   280.000000  280.000000    171.000000\n",
       " mean      7.985929    7.589286      0.546023\n",
       " std       0.568638    0.569672      0.279555\n",
       " min       7.500000    7.010000      0.200000\n",
       " 25%       7.660000    7.270000      0.340000\n",
       " 50%       7.800000    7.420000      0.380000\n",
       " 75%       7.970000    7.570000      0.920000\n",
       " max       9.950000    9.580000      0.990000)"
      ]
     },
     "execution_count": 12,
     "metadata": {},
     "output_type": "execute_result"
    }
   ],
   "source": [
    "treatment_df.info(), treatment_df.describe()"
   ]
  },
  {
   "cell_type": "code",
   "execution_count": 13,
   "metadata": {},
   "outputs": [
    {
     "name": "stdout",
     "output_type": "stream",
     "text": [
      "<class 'pandas.core.frame.DataFrame'>\n",
      "RangeIndex: 34 entries, 0 to 33\n",
      "Data columns (total 3 columns):\n",
      " #   Column            Non-Null Count  Dtype \n",
      "---  ------            --------------  ----- \n",
      " 0   given_name        34 non-null     object\n",
      " 1   surname           34 non-null     object\n",
      " 2   adverse_reaction  34 non-null     object\n",
      "dtypes: object(3)\n",
      "memory usage: 944.0+ bytes\n"
     ]
    },
    {
     "data": {
      "text/plain": [
       "(None,\n",
       "        given_name  surname adverse_reaction\n",
       " count          34       34               34\n",
       " unique         34       33                6\n",
       " top         berta  johnson     hypoglycemia\n",
       " freq            1        2               19)"
      ]
     },
     "execution_count": 13,
     "metadata": {},
     "output_type": "execute_result"
    }
   ],
   "source": [
    "adv_reaction_df.info(), adv_reaction_df.describe()"
   ]
  },
  {
   "cell_type": "markdown",
   "metadata": {},
   "source": [
    "### Quality Issues in the DataFrames (Discovering and Documenting)\n",
    "\n",
    "- Data Quality Dimension: [Completeness, Validity, Accuracy, Consistency]\n",
    "\n",
    "#### `Patients DF`\n",
    "\n",
    "- Zip code col is stored in decimal format[V]\n",
    "- Certain zip codes of 4 digits[V] \n",
    "- For the state col sometimes full names are use and other times short forms are used[IC]\n",
    "- Missing values for contact details of 12 patients[C]\n",
    "- Incorrect data types for assigned_sex and birthdate cols[?]\n",
    "- Erroneous data for weights and heights[A]\n",
    "- Inconsistent way of storing phone numbers in contact col[IC]\n",
    "- Duplicate and not useful data in dataset[IC]\n",
    "\n",
    "#### `Treatments DF`\n",
    "\n",
    "- hba1c_change col has missing values[C]\n",
    "- Novodra and Auralin cols has u attached to numbers[V]\n",
    "- Only 280 rows are there, instead of 350[C]\n",
    "- Name and surname col is in lower case[IC]\n",
    "- Incorrect data type for auralin and novadra cols[V]\n",
    "- hba1c_change 9 instead of 4[A]\n",
    "- use of dashes instead of Nan in aurolin and novodra cols[IC]\n",
    "\n",
    "#### `Adverse Reactions DF`\n",
    "\n",
    "- Name and surname col is in lower case[IC]"
   ]
  },
  {
   "cell_type": "markdown",
   "metadata": {},
   "source": [
    "### Tidiness Issues in the DataFrames (Discovering and Documenting)\n",
    "\n",
    "#### `Patients DF`\n",
    "\n",
    "- Phone and email together in one col i.e. contact\n",
    "\n",
    "#### `Treatments DF`\n",
    "\n",
    "- 3 variables stored in auralin and novodra cols\n",
    "\n",
    "#### `Adverse Reactions DF`\n",
    "\n",
    "- No point of using this table"
   ]
  },
  {
   "cell_type": "markdown",
   "metadata": {},
   "source": [
    "## Cleaning Data\n",
    "\n",
    "While cleaning you should follow the order provided below:\n",
    "\n",
    "- Completeness Issues\n",
    "- Tidiness Issues\n",
    "- Remaining Data quality issues like validity, accuracy and consistency\n",
    "\n",
    "### Steps involved in Data cleaning\n",
    "\n",
    "- Define what you need to clean\n",
    "- Code to clean\n",
    "- Test if data is cleaned properly or not\n",
    "\n",
    "`Always make sure to create a copy of your pandas dataframe before you start the cleaning process`"
   ]
  },
  {
   "cell_type": "markdown",
   "metadata": {},
   "source": [
    "### Completeness Issues\n",
    "\n",
    "- Missing values for contact details of 12 patients\n",
    "- Only 280 rows are there, instead of 350\n",
    "- hba1c_change col has missing values"
   ]
  },
  {
   "cell_type": "markdown",
   "metadata": {},
   "source": [
    "### Tidiness Issues\n",
    "\n",
    "- Phone + email in contact col `patients`\n",
    "- Novodra and Aurolin col `treatment`\n",
    "- Merge the `adverse` table to `treatment` table"
   ]
  },
  {
   "cell_type": "code",
   "execution_count": null,
   "metadata": {},
   "outputs": [],
   "source": []
  }
 ],
 "metadata": {
  "interpreter": {
   "hash": "c49c1dd0b8adee9052e2bfcf9a24a9250f49ed473eb0c2e70d38afff6cbbcd17"
  },
  "kernelspec": {
   "display_name": "Python 3.9.0 64-bit",
   "language": "python",
   "name": "python3"
  },
  "language_info": {
   "codemirror_mode": {
    "name": "ipython",
    "version": 3
   },
   "file_extension": ".py",
   "mimetype": "text/x-python",
   "name": "python",
   "nbconvert_exporter": "python",
   "pygments_lexer": "ipython3",
   "version": "3.9.0 (tags/v3.9.0:9cf6752, Oct  5 2020, 15:34:40) [MSC v.1927 64 bit (AMD64)]"
  },
  "orig_nbformat": 4
 },
 "nbformat": 4,
 "nbformat_minor": 2
}
