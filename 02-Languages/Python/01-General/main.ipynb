{
 "cells": [
  {
   "attachments": {},
   "cell_type": "markdown",
   "metadata": {},
   "source": [
    "# Computer\n",
    "\n",
    "A computer is a device that can execute programs.\n",
    "\n",
    "# Program\n",
    "\n",
    "Program is a software entity designed and developed to automate a particular task.\n",
    "A program is composed of Code and Data.\n",
    "\n",
    "# Code\n",
    "\n",
    "Code means instructions.\n",
    "For a task/subtask a set of instructions are grouped in a unit termed as a `function`.\n",
    "\n",
    "# Function\n",
    "\n",
    "A function is a set (group) of instructions.\n",
    "It has a unique name for identification.\n",
    "- It performs a sub task for a program.\n",
    "- It requires a call for execution.\n",
    "\n",
    "# Data\n",
    "\n",
    "Data means information.\n",
    "It is of two types:\n",
    "- Input: Input is the information that a program gets.\n",
    "- Output: Output is the information that a program generates.\n",
    "\n",
    "Program Data must be stored in a variable.\n",
    "\n",
    "![Python Program](../img/Program.png \"Python Program\")"
   ]
  },
  {
   "attachments": {},
   "cell_type": "markdown",
   "metadata": {},
   "source": [
    "# Variable\n",
    "\n",
    "A variable is a reserved block in memory (RAM).\n",
    "\n",
    "It is identified by a unique name.\n",
    "\n",
    "It allows storage and retrieval of data.\n",
    "\n",
    "It can store one value at a time.\n",
    "\n",
    "Its value can change.\n",
    "\n",
    "Python doesnt have a specific variable declaration syntax.\n",
    "\n",
    "The variables get declared on first use.\n",
    "\n",
    "On finding first use of a variable as writing, Python:\n",
    "1. Sense the datatype of the value being assigned.\n",
    " - Basic data types: int, float, str, bool, none\n",
    "2. Reserve memory corresponding to the datatype, in applications memory space.\n",
    "3. Register the declaration(a:1000) in a symbol table (dictionary).\n",
    "4. Assign the value to the memory location.\n",
    "\n",
    "The `type()` function is used to find the type of the variable/value."
   ]
  },
  {
   "cell_type": "code",
   "execution_count": 6,
   "metadata": {},
   "outputs": [
    {
     "data": {
      "text/plain": [
       "(int, float, str, bool, list, tuple, dict)"
      ]
     },
     "execution_count": 6,
     "metadata": {},
     "output_type": "execute_result"
    }
   ],
   "source": [
    "a = 1\n",
    "b = 1.0\n",
    "c = \"hello\"\n",
    "d = True\n",
    "e = [1,2,3]\n",
    "f = (1,2,3)\n",
    "g = {\"k1\": \"Hello\", \"k2\": a}\n",
    "\n",
    "type(a), type(b), type(c), type(d), type(e), type(f), type(g)"
   ]
  },
  {
   "attachments": {},
   "cell_type": "markdown",
   "metadata": {},
   "source": [
    "# Stream\n",
    "\n",
    "A stream is a channel of data transfer between interconnected devices.\n",
    "\n",
    "It may be unidirectional or bidirectional and accordingly it allows transfer of information.\n",
    "\n",
    "# Standard Streams\n",
    "\n",
    "O/S establishes 3 streams and makes them available for use by the application (Python program).\n",
    "\n",
    "1. `sys.stdin`: Standard Input Stream for transfer of data from keyboard to application.\n",
    "2. `sys.stdout`: Standard Output Stream for transfer of data from the application to monitor.\n",
    "3. `sys.stderr`: Standard Error Stream for transfer of data from the application to monitor.\n",
    "\n",
    "![Python Data Flow](../img/Program%20Data%20Flow.png \"Python Data Flow\")\n",
    "\n",
    "# Python\n",
    "\n",
    "Python does not enable you to code particularly close to the metal, as it is interpreted into C and then compiled."
   ]
  },
  {
   "attachments": {},
   "cell_type": "markdown",
   "metadata": {},
   "source": [
    "# print()\n",
    "\n",
    "A predefined function that takes program data and transfers it to sys.stdout for rendering."
   ]
  },
  {
   "cell_type": "code",
   "execution_count": 8,
   "metadata": {},
   "outputs": [
    {
     "name": "stdout",
     "output_type": "stream",
     "text": [
      "Hello-world."
     ]
    }
   ],
   "source": [
    "print(\"Hello\",\"world\", sep=\"-\", end=\".\")"
   ]
  },
  {
   "attachments": {},
   "cell_type": "markdown",
   "metadata": {},
   "source": [
    "# input()\n",
    "\n",
    "A predefined function that fetches data from sys.stdin and assigns the same to program variables.\n"
   ]
  },
  {
   "cell_type": "code",
   "execution_count": 11,
   "metadata": {},
   "outputs": [
    {
     "data": {
      "text/plain": [
       "('1', str)"
      ]
     },
     "execution_count": 11,
     "metadata": {},
     "output_type": "execute_result"
    }
   ],
   "source": [
    "inp = input(\"This is the prompt for input: \")\n",
    "inp, type(inp)"
   ]
  },
  {
   "attachments": {},
   "cell_type": "markdown",
   "metadata": {},
   "source": [
    "# TypeCasting\n",
    "\n",
    "`input()` is used to accept values from keyboard, the data is receive in string (text) form, it may be converted to required form for further use.\n",
    "\n",
    "Typecasting don't change the type of the existing variables instead it return a new value of specified type so we can store it in other variable and use it.\n",
    "\n",
    "`int(string)` attempt to convert the given string into an int (whole number).\n",
    "\n",
    "- When conversion is successful, an int value is returned.\n",
    "- When conversion fails, a ValueError is raised.\n",
    "\n",
    "`int()`, `str()`, `bool()`, `ord()`, `chr()`"
   ]
  },
  {
   "cell_type": "code",
   "execution_count": 14,
   "metadata": {},
   "outputs": [
    {
     "data": {
      "text/plain": [
       "(5, int, '5', str)"
      ]
     },
     "execution_count": 14,
     "metadata": {},
     "output_type": "execute_result"
    }
   ],
   "source": [
    "a = 5\n",
    "b = str(a)\n",
    "a, type(a), b, type(b)"
   ]
  },
  {
   "attachments": {},
   "cell_type": "markdown",
   "metadata": {},
   "source": [
    "# Assignment Operator (=)\n",
    "\n",
    "Assignment operator (=) is used to read/evaluate the r-value/expression and assign the result to the variable address on the LHS (l-value).\n",
    "\n",
    "It returns the value that it assigns.\n",
    "\n",
    "It supports cascaded(cascading is kind of like chaining) usage."
   ]
  },
  {
   "cell_type": "code",
   "execution_count": 12,
   "metadata": {},
   "outputs": [
    {
     "data": {
      "text/plain": [
       "(10, 10, 10)"
      ]
     },
     "execution_count": 12,
     "metadata": {},
     "output_type": "execute_result"
    }
   ],
   "source": [
    "a = b = c = 10\n",
    "a, b, c"
   ]
  },
  {
   "attachments": {},
   "cell_type": "markdown",
   "metadata": {},
   "source": [
    "# Operators Overview:\n",
    "\n",
    "1. Arithematic\n",
    "1. Assignment\n",
    "1. Comparison\n",
    "1. Logical\n",
    "1. Identity (is, is not)\n",
    "1. Membership (in, not in)\n",
    "1. Bitwise"
   ]
  },
  {
   "attachments": {},
   "cell_type": "markdown",
   "metadata": {},
   "source": [
    "# Important Arithematic Operators\n",
    "\n",
    "1. `/` : generates quotient of division to the accuracy until remainder becomes zero or a recurring value. Ideally a float value is generated.\n",
    "2. `//` : generates integer quotient of division\n",
    "3. `%` : generates remainder of integer division\n",
    "4. `**` : For exponentiation"
   ]
  },
  {
   "cell_type": "code",
   "execution_count": 1,
   "metadata": {},
   "outputs": [
    {
     "data": {
      "text/plain": [
       "(2.5, 2, 1, 25)"
      ]
     },
     "execution_count": 1,
     "metadata": {},
     "output_type": "execute_result"
    }
   ],
   "source": [
    "a = 5\n",
    "b = 2\n",
    "a/b, a//b, a%b, a**b"
   ]
  },
  {
   "attachments": {},
   "cell_type": "markdown",
   "metadata": {},
   "source": [
    "# Swapping 2 numbers"
   ]
  },
  {
   "cell_type": "code",
   "execution_count": 30,
   "metadata": {},
   "outputs": [
    {
     "data": {
      "text/plain": [
       "(10, 20)"
      ]
     },
     "execution_count": 30,
     "metadata": {},
     "output_type": "execute_result"
    }
   ],
   "source": [
    "a = 10\n",
    "b = 20\n",
    "a, b"
   ]
  },
  {
   "cell_type": "markdown",
   "metadata": {},
   "source": [
    "1. Using 3 variables (creating a temporary varible):"
   ]
  },
  {
   "cell_type": "code",
   "execution_count": 31,
   "metadata": {},
   "outputs": [
    {
     "data": {
      "text/plain": [
       "(20, 10)"
      ]
     },
     "execution_count": 31,
     "metadata": {},
     "output_type": "execute_result"
    }
   ],
   "source": [
    "c = a\n",
    "a = b\n",
    "b = c\n",
    "\n",
    "a, b"
   ]
  },
  {
   "cell_type": "markdown",
   "metadata": {},
   "source": [
    "\n",
    "2. Using just 2 variables (Arithematic method):"
   ]
  },
  {
   "cell_type": "code",
   "execution_count": 32,
   "metadata": {},
   "outputs": [
    {
     "data": {
      "text/plain": [
       "(10, 20)"
      ]
     },
     "execution_count": 32,
     "metadata": {},
     "output_type": "execute_result"
    }
   ],
   "source": [
    "a = a + b\n",
    "b = a - b\n",
    "a = a - b\n",
    "\n",
    "a, b"
   ]
  },
  {
   "cell_type": "markdown",
   "metadata": {},
   "source": [
    "\n",
    "3. Using just 2 variables (Bit manipulation):"
   ]
  },
  {
   "cell_type": "code",
   "execution_count": 33,
   "metadata": {},
   "outputs": [
    {
     "data": {
      "text/plain": [
       "(20, 10)"
      ]
     },
     "execution_count": 33,
     "metadata": {},
     "output_type": "execute_result"
    }
   ],
   "source": [
    "a = a^b\n",
    "b = a^b\n",
    "a = a^b\n",
    "\n",
    "a, b"
   ]
  },
  {
   "cell_type": "markdown",
   "metadata": {},
   "source": [
    "4. Python specific:"
   ]
  },
  {
   "cell_type": "code",
   "execution_count": 34,
   "metadata": {},
   "outputs": [
    {
     "data": {
      "text/plain": [
       "(10, 20)"
      ]
     },
     "execution_count": 34,
     "metadata": {},
     "output_type": "execute_result"
    }
   ],
   "source": [
    "a, b = b, a\n",
    "a, b"
   ]
  },
  {
   "attachments": {},
   "cell_type": "markdown",
   "metadata": {},
   "source": [
    "Python don't have unary operators like `++` or `--` neither the ternary operator\n",
    "\n",
    "- For ternary operator it has 1 liner if else:\n",
    "```python\n",
    "  statement if(condition) else statement\n",
    "```"
   ]
  },
  {
   "cell_type": "code",
   "execution_count": 36,
   "metadata": {},
   "outputs": [
    {
     "name": "stdout",
     "output_type": "stream",
     "text": [
      "less\n"
     ]
    }
   ],
   "source": [
    "a = 9\n",
    "print(\"greater\") if a > 10 else print(\"less\")"
   ]
  },
  {
   "attachments": {},
   "cell_type": "markdown",
   "metadata": {},
   "source": [
    "# NOTE\n",
    "\n",
    "**Comments** can be single line or multi-line.\n",
    "\n",
    "**Escape Sequence characters** are there so make sure to know about them.\n",
    "\n",
    "**Scoping** in python is done using indentation.\n",
    "\n",
    "To modify global variables we should use `global` keyword"
   ]
  },
  {
   "attachments": {},
   "cell_type": "markdown",
   "metadata": {},
   "source": [
    "# Understanding the Random library and how random numbers are created"
   ]
  },
  {
   "attachments": {},
   "cell_type": "markdown",
   "metadata": {},
   "source": [
    "# Taking List as a Parameter in Function\n",
    "\n",
    "Know that when a list is shared as parameter then the actual and formal parameters refer to the same list (memory). Hence updates are made to the common memory.\n",
    "\n",
    "- This approach to data sharing between the caller and the called function is called as `Pass by reference`."
   ]
  },
  {
   "cell_type": "markdown",
   "metadata": {},
   "source": []
  }
 ],
 "metadata": {
  "interpreter": {
   "hash": "c49c1dd0b8adee9052e2bfcf9a24a9250f49ed473eb0c2e70d38afff6cbbcd17"
  },
  "kernelspec": {
   "display_name": "Python 3.9.0 64-bit",
   "language": "python",
   "name": "python3"
  },
  "language_info": {
   "codemirror_mode": {
    "name": "ipython",
    "version": 3
   },
   "file_extension": ".py",
   "mimetype": "text/x-python",
   "name": "python",
   "nbconvert_exporter": "python",
   "pygments_lexer": "ipython3",
   "version": "3.9.0"
  },
  "orig_nbformat": 4
 },
 "nbformat": 4,
 "nbformat_minor": 2
}
